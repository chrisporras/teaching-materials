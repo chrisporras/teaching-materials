{
 "cells": [
  {
   "cell_type": "markdown",
   "metadata": {},
   "source": [
    "# CAAP 2019 Genetics 🧬 Lab 6\n",
    "\n",
    "## Vizualizing genetic relatedness\n",
    "\n",
    "### Author: Chris Porras"
   ]
  },
  {
   "cell_type": "markdown",
   "metadata": {},
   "source": [
    "> This is a `jupyter` *notebook*. Notebooks allow us to write and store `python` code in an organized form. The box below with a darkened background is called a **cell**. The code in a cell can be run by clicking on it and selecting *Run* above or by using the `ctrl+enter` keyboard shortcut. Throughout this exercise, you will be running the pre-written cells and interpreting figures plotted. **You do not need to edit any of the code**."
   ]
  },
  {
   "cell_type": "code",
   "execution_count": null,
   "metadata": {},
   "outputs": [],
   "source": [
    "################### Run this cell to load essential packages #####################\n",
    "import numpy as np \n",
    "import pandas as pd\n",
    "import matplotlib.pyplot as plt\n",
    "from mpl_toolkits import mplot3d\n",
    "import plotly.express as px\n",
    "import seaborn as sns\n",
    "rc = {'lines.linewidth': 3, \n",
    "      'axes.labelsize': 18, \n",
    "      'axes.titlesize': 18, \n",
    "      'axes.facecolor': 'DFDFE5'}\n",
    "sns.set_context('notebook', rc=rc)\n",
    "sns.set_style('darkgrid', rc=rc)\n",
    "sns.set_palette('colorblind')\n",
    "%matplotlib inline"
   ]
  },
  {
   "cell_type": "code",
   "execution_count": null,
   "metadata": {},
   "outputs": [],
   "source": [
    "### Load in data files\n",
    "df = pd.read_csv('../data/1K_genomes_PCA.csv')\n",
    "PC_load = np.load('../data/1kGenomesPCloading.npy')\n",
    "superpop_key = pd.read_csv(\"../data/20131219.superpopulations.tsv\", sep='\\t')\n",
    "pop_key = pd.read_csv('../data/20131219.populations.tsv',sep='\\t').iloc[:,0:3]"
   ]
  },
  {
   "cell_type": "markdown",
   "metadata": {},
   "source": [
    "### Peek at the data set we'll be studying"
   ]
  },
  {
   "cell_type": "code",
   "execution_count": null,
   "metadata": {
    "scrolled": true
   },
   "outputs": [],
   "source": [
    "df.iloc[[i for i in np.arange(5)*200]]"
   ]
  },
  {
   "cell_type": "markdown",
   "metadata": {},
   "source": [
    "> We want to infer the population that our first sample was chosen from by comparing genetic data across a global sample from the [1000 Genomes Project](https://en.wikipedia.org/wiki/1000_Genomes_Project)."
   ]
  },
  {
   "cell_type": "markdown",
   "metadata": {},
   "source": [
    "### Unlabeled PCA plot"
   ]
  },
  {
   "cell_type": "code",
   "execution_count": null,
   "metadata": {},
   "outputs": [],
   "source": [
    "plt.figure(figsize=(10,8))\n",
    "plt.plot(df['PC1_0.03008'],df['PC2_0.01143'],'.')\n",
    "plt.title('1K Genomes test PCA plot')\n",
    "plt.xlabel(f'PC1 {np.round(PC_load[0],2)*100}% '+r'$\\sigma^2$')\n",
    "plt.ylabel(f'PC2 {np.round(PC_load[1],2)*100}% '+r'$\\sigma^2$')\n",
    "plt.show()"
   ]
  },
  {
   "cell_type": "markdown",
   "metadata": {},
   "source": [
    "> We can plot the first two principal components for each sample, but this doesn't tell us much without labels!"
   ]
  },
  {
   "cell_type": "code",
   "execution_count": null,
   "metadata": {},
   "outputs": [],
   "source": [
    "################# Legend key for Population codes #################\n",
    "superpop_key"
   ]
  },
  {
   "cell_type": "markdown",
   "metadata": {},
   "source": [
    "### Label PCA plot by super population"
   ]
  },
  {
   "cell_type": "code",
   "execution_count": null,
   "metadata": {},
   "outputs": [],
   "source": [
    "plt.figure(figsize=(10,8))\n",
    "plt.title('1K Genomes PCA by super population')\n",
    "plt.xlabel(f'PC1 {np.round(PC_load[0],2)*100}% '+r'$\\sigma^2$')\n",
    "plt.ylabel(f'PC2 {np.round(PC_load[1],2)*100}% '+r'$\\sigma^2$')\n",
    "for pop in superpop_key['Population Code']:\n",
    "    PCs = df.loc[df['Super_Population']==pop].iloc[:,1:3]\n",
    "    if pop == 'UNKNOWN':\n",
    "        marker = 's'\n",
    "        alpha = 1\n",
    "    else:\n",
    "        marker = '.'\n",
    "        alpha = 0.2\n",
    "    plt.scatter(PCs['PC1_0.03008'],PCs['PC2_0.01143'],\n",
    "                label=pop,marker=marker,alpha = alpha)\n",
    "plt.legend(fontsize=18)\n",
    "plt.show()"
   ]
  },
  {
   "cell_type": "markdown",
   "metadata": {},
   "source": [
    "> Now we're getting somewhere! Still, we can use another dimension to better view our unknown."
   ]
  },
  {
   "cell_type": "code",
   "execution_count": null,
   "metadata": {},
   "outputs": [],
   "source": [
    "fig = plt.figure(figsize=(10,8))\n",
    "ax = plt.axes(projection='3d')\n",
    "ax.set_title('1K Genomes PCA by super population')\n",
    "ax.set_xlabel(f'PC1 {np.round(PC_load[0],2)*100}% '+r'$\\sigma^2$',labelpad=10)\n",
    "ax.set_ylabel(f'PC2 {np.round(PC_load[1],2)*100}% '+r'$\\sigma^2$',labelpad=10)\n",
    "ax.set_zlabel(f'PC3 {np.round(PC_load[2],3)*100}% '+r'$\\sigma^2$',labelpad=10)\n",
    "for pop in superpop_key['Population Code']:\n",
    "    PCs = df.loc[df['Super_Population']==pop].iloc[:,1:4]\n",
    "    if pop == 'UNKNOWN':\n",
    "        marker = 's'\n",
    "        alpha = 1\n",
    "    else:\n",
    "        marker = '.'\n",
    "        alpha = 0.1\n",
    "    ax.scatter(PCs['PC1_0.03008'],PCs['PC2_0.01143'],PCs['PC3_0.00354'],\n",
    "               label=pop,marker=marker,alpha=alpha)\n",
    "ax.legend(fontsize=20,loc='upper left')"
   ]
  },
  {
   "cell_type": "markdown",
   "metadata": {},
   "source": [
    "> If only we could rotate our plot around to see different angles..."
   ]
  },
  {
   "cell_type": "code",
   "execution_count": null,
   "metadata": {
    "scrolled": false
   },
   "outputs": [],
   "source": [
    "fig = px.scatter_3d(df, x='PC1_0.03008', \n",
    "                        y='PC2_0.01143', \n",
    "                        z='PC3_0.00354',\n",
    "                      color='Super_Population')\n",
    "fig.show()"
   ]
  },
  {
   "cell_type": "markdown",
   "metadata": {},
   "source": [
    "> Try clicking other populations on the legend to hide them from view!"
   ]
  },
  {
   "cell_type": "markdown",
   "metadata": {},
   "source": [
    "### Label PCA plot by sub population"
   ]
  },
  {
   "cell_type": "code",
   "execution_count": null,
   "metadata": {
    "scrolled": true
   },
   "outputs": [],
   "source": [
    "################ Legend key describing sub population codes ################\n",
    "pop_key"
   ]
  },
  {
   "cell_type": "code",
   "execution_count": null,
   "metadata": {
    "scrolled": false
   },
   "outputs": [],
   "source": [
    "fig = px.scatter_3d(df, x='PC1_0.03008', \n",
    "                        y='PC2_0.01143', \n",
    "                        z='PC3_0.00354',\n",
    "                      color='Population')\n",
    "fig.show()"
   ]
  },
  {
   "cell_type": "markdown",
   "metadata": {},
   "source": [
    "> Try hiding various combinations of subpopulations to identify which of these cluster most closely to our unknown. "
   ]
  }
 ],
 "metadata": {
  "kernelspec": {
   "display_name": "Python 3",
   "language": "python",
   "name": "python3"
  },
  "language_info": {
   "codemirror_mode": {
    "name": "ipython",
    "version": 3
   },
   "file_extension": ".py",
   "mimetype": "text/x-python",
   "name": "python",
   "nbconvert_exporter": "python",
   "pygments_lexer": "ipython3",
   "version": "3.6.5"
  }
 },
 "nbformat": 4,
 "nbformat_minor": 2
}
